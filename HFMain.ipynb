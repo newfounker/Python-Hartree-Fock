{
 "cells": [
  {
   "cell_type": "code",
   "execution_count": 1,
   "metadata": {
    "collapsed": true
   },
   "outputs": [],
   "source": [
    "from HubbardHF import Hubb\n",
    "import numpy as np"
   ]
  },
  {
   "cell_type": "code",
   "execution_count": 2,
   "metadata": {
    "collapsed": true
   },
   "outputs": [],
   "source": [
    "Nx    = 4\n",
    "Ny    = 4\n",
    "NAO   = Nx*Ny\n",
    "NOccA = 8\n",
    "NOccB = 8\n",
    "TT    = 1.0\n",
    "U     = 4.0\n",
    "tol   = 1e-9\n",
    "PBCx  = True\n",
    "PBCy  = True\n",
    "dmp   = 0."
   ]
  },
  {
   "cell_type": "code",
   "execution_count": 3,
   "metadata": {},
   "outputs": [
    {
     "name": "stdout",
     "output_type": "stream",
     "text": [
      "[[ 0. -1.  0. -1. -1.  0.  0.  0.  0.  0.  0.  0. -1.  0.  0.  0.]\n",
      " [-1.  0. -1.  0.  0. -1.  0.  0.  0.  0.  0.  0.  0. -1.  0.  0.]\n",
      " [ 0. -1.  0. -1.  0.  0. -1.  0.  0.  0.  0.  0.  0.  0. -1.  0.]\n",
      " [-1.  0. -1.  0.  0.  0.  0. -1.  0.  0.  0.  0.  0.  0.  0. -1.]\n",
      " [-1.  0.  0.  0.  0. -1.  0. -1. -1.  0.  0.  0.  0.  0.  0.  0.]\n",
      " [ 0. -1.  0.  0. -1.  0. -1.  0.  0. -1.  0.  0.  0.  0.  0.  0.]\n",
      " [ 0.  0. -1.  0.  0. -1.  0. -1.  0.  0. -1.  0.  0.  0.  0.  0.]\n",
      " [ 0.  0.  0. -1. -1.  0. -1.  0.  0.  0.  0. -1.  0.  0.  0.  0.]\n",
      " [ 0.  0.  0.  0. -1.  0.  0.  0.  0. -1.  0. -1. -1.  0.  0.  0.]\n",
      " [ 0.  0.  0.  0.  0. -1.  0.  0. -1.  0. -1.  0.  0. -1.  0.  0.]\n",
      " [ 0.  0.  0.  0.  0.  0. -1.  0.  0. -1.  0. -1.  0.  0. -1.  0.]\n",
      " [ 0.  0.  0.  0.  0.  0.  0. -1. -1.  0. -1.  0.  0.  0.  0. -1.]\n",
      " [-1.  0.  0.  0.  0.  0.  0.  0. -1.  0.  0.  0.  0. -1.  0. -1.]\n",
      " [ 0. -1.  0.  0.  0.  0.  0.  0.  0. -1.  0.  0. -1.  0. -1.  0.]\n",
      " [ 0.  0. -1.  0.  0.  0.  0.  0.  0.  0. -1.  0.  0. -1.  0. -1.]\n",
      " [ 0.  0.  0. -1.  0.  0.  0.  0.  0.  0.  0. -1. -1.  0. -1.  0.]]\n"
     ]
    }
   ],
   "source": [
    "HF = Hubb(Nx,Ny,NOccA,NOccB,U,tol)\n",
    "HF.mkHopping(PBCx,PBCy)\n",
    "print(HF.T)\n",
    "#HF.mkGuess(addCore=0.5,addNeel=0.5)\n",
    "#HF.setupDIIS(Ninit = 5, NDIIS = 5)\n",
    "#HF.doSCF(damping  = dmp, doDIIS = True)\n",
    "#print(HF.Energy/(Nx*Ny))"
   ]
  },
  {
   "cell_type": "code",
   "execution_count": 4,
   "metadata": {},
   "outputs": [
    {
     "ename": "NameError",
     "evalue": "name 'mat' is not defined",
     "output_type": "error",
     "traceback": [
      "\u001b[0;31m---------------------------------------------------------------------------\u001b[0m",
      "\u001b[0;31mNameError\u001b[0m                                 Traceback (most recent call last)",
      "\u001b[0;32m<ipython-input-4-2cc689d0ab05>\u001b[0m in \u001b[0;36m<module>\u001b[0;34m()\u001b[0m\n\u001b[0;32m----> 1\u001b[0;31m \u001b[0mtype\u001b[0m\u001b[0;34m(\u001b[0m\u001b[0mmat\u001b[0m\u001b[0;34m)\u001b[0m\u001b[0;34m\u001b[0m\u001b[0m\n\u001b[0m",
      "\u001b[0;31mNameError\u001b[0m: name 'mat' is not defined"
     ]
    }
   ],
   "source": [
    "type(mat)"
   ]
  },
  {
   "cell_type": "code",
   "execution_count": null,
   "metadata": {
    "collapsed": true
   },
   "outputs": [],
   "source": []
  }
 ],
 "metadata": {
  "kernelspec": {
   "display_name": "Python 3",
   "language": "python",
   "name": "python3"
  },
  "language_info": {
   "codemirror_mode": {
    "name": "ipython",
    "version": 3
   },
   "file_extension": ".py",
   "mimetype": "text/x-python",
   "name": "python",
   "nbconvert_exporter": "python",
   "pygments_lexer": "ipython3",
   "version": "3.6.1"
  }
 },
 "nbformat": 4,
 "nbformat_minor": 2
}
