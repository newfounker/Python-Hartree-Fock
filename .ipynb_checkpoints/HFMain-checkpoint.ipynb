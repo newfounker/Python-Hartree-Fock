{
 "cells": [
  {
   "cell_type": "code",
   "execution_count": null,
   "metadata": {
    "collapsed": true
   },
   "outputs": [],
   "source": [
    "from HubbardHF import Hubb"
   ]
  },
  {
   "cell_type": "code",
   "execution_count": null,
   "metadata": {
    "collapsed": true
   },
   "outputs": [],
   "source": [
    "# Initialize the paramaters for the calculation\n",
    "Nx    = 4\n",
    "Ny    = 4\n",
    "NAO   = Nx*Ny\n",
    "NOccA = 8\n",
    "NOccB = 8\n",
    "U     = 4.0\n",
    "tol   = 1e-9\n",
    "PBCx  = True\n",
    "PBCy  = True\n",
    "dmp   = 0."
   ]
  },
  {
   "cell_type": "code",
   "execution_count": null,
   "metadata": {},
   "outputs": [],
   "source": [
    "# Initialize the class\n",
    "HF = Hubb(Nx,Ny,NOccA,NOccB,U,tol)\n",
    "# Generate the hopping array\n",
    "HF.mkHopping(PBCx,PBCy)\n",
    "# Generate a guess that is a mix of the U=0 and U=Inf solutions\n",
    "HF.mkGuess(addCore=0.5,addNeel=0.5)\n",
    "# Initialize convergence acceleration (optional)\n",
    "HF.setupDIIS(Ninit = 5, NDIIS = 5)\n",
    "# Do the calculation\n",
    "HF.doSCF(damping  = dmp, doDIIS = True, doUHF = True)\n",
    "# Prin the resulting energy\n",
    "print(HF.Energy/(Nx*Ny))"
   ]
  }
 ],
 "metadata": {
  "kernelspec": {
   "display_name": "Python 3",
   "language": "python",
   "name": "python3"
  },
  "language_info": {
   "codemirror_mode": {
    "name": "ipython",
    "version": 3
   },
   "file_extension": ".py",
   "mimetype": "text/x-python",
   "name": "python",
   "nbconvert_exporter": "python",
   "pygments_lexer": "ipython3",
   "version": "3.6.1"
  }
 },
 "nbformat": 4,
 "nbformat_minor": 2
}
